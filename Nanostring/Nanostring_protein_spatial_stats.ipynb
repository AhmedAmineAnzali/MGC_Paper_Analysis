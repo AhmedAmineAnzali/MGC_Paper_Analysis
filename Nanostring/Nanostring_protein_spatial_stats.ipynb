{
 "cells": [
  {
   "cell_type": "code",
   "execution_count": null,
   "metadata": {},
   "outputs": [],
   "source": [
    "import scanpy as sc\n",
    "import seaborn as sns\n",
    "import matplotlib.pyplot as plt\n",
    "import numpy as np\n",
    "import anndata\n",
    "import squidpy as sq\n",
    "import pandas as pd\n",
    "from scipy.sparse.csgraph import connected_components\n",
    "from collections import defaultdict\n",
    "from math import ceil"
   ]
  },
  {
   "cell_type": "code",
   "execution_count": null,
   "metadata": {},
   "outputs": [],
   "source": [
    "adata1 = sc.read_h5ad(\"../nanostring/Prot_sopa/mgc/adata_mgc_14_annot.h5ad\")\n",
    "adata2 = sc.read_h5ad(\"../nanostring/Prot_sopa/protein_annot/14_annot.h5ad\")\n",
    "adata3 = sc.read_h5ad(\"../nanostring/Prot_sopa/mgc/adata_mgc_10_annot.h5ad\")\n",
    "adata4 = sc.read_h5ad(\"../nanostring/Prot_sopa/protein_annot/13_annot.h5ad\")"
   ]
  },
  {
   "cell_type": "code",
   "execution_count": null,
   "metadata": {},
   "outputs": [],
   "source": [
    "adata = anndata.concat([adata1, adata2, adata3, adata4], join='outer', label='sample')"
   ]
  },
  {
   "cell_type": "code",
   "execution_count": null,
   "metadata": {},
   "outputs": [],
   "source": [
    "categories = adata.obs['annot_level1'].cat.categories\n",
    "print(categories)"
   ]
  },
  {
   "cell_type": "code",
   "execution_count": null,
   "metadata": {},
   "outputs": [],
   "source": [
    "populations_to_remove = [\"Artifact\", \"Autofluorence\", \"Autofluo/collagen\", \"RBC\"]\n",
    "adata = adata[~adata.obs.annot_level1.isin(populations_to_remove)]"
   ]
  },
  {
   "cell_type": "code",
   "execution_count": null,
   "metadata": {},
   "outputs": [],
   "source": [
    "NICHES_KEY = \"global_niche\"\n",
    "CT0_KEY = \"annot_level0\"\n",
    "CT1_KEY = \"annot_level1\"\n",
    "ID_KEY = \"ID\"\n",
    "PCR = \"MGC\"\n",
    "NPCR = \"non_MGC\"\n",
    "\n",
    "GROUP_KEY = \"RCB\"\n",
    "\n",
    "GROUPS = {\n",
    "    PCR: ['14H007030716H0216858_up','14H007030716H0216858_down',\"10H064210813H0208914_up\",\"10H064210813H0208914_down\"],\n",
    "    NPCR: ['Up_14H042050615H0377937',\n",
    "            'Down_14H042050615H0377937',\"Up_13H079750314H0227010\",\"Down_13H079750314H0227010\"],\n",
    "}\n",
    "TO_GROUP = {image_id: group for group, ids in GROUPS.items() for image_id in ids}"
   ]
  },
  {
   "cell_type": "code",
   "execution_count": null,
   "metadata": {},
   "outputs": [],
   "source": [
    "sq.gr.spatial_neighbors(adata, library_key=ID_KEY, coord_type=\"generic\", radius=(0, 70), delaunay=True)"
   ]
  },
  {
   "cell_type": "markdown",
   "metadata": {},
   "source": [
    "# Cell type proportions"
   ]
  },
  {
   "cell_type": "code",
   "execution_count": null,
   "metadata": {},
   "outputs": [],
   "source": [
    "df_proportions_ct0 = adata.obs.groupby(ID_KEY)[CT0_KEY].value_counts(normalize=True).unstack()\n",
    "df_proportions_ct0.columns = [f\"{pop} ratio \" for pop in df_proportions_ct0.columns]\n",
    "df_proportions_ct0"
   ]
  },
  {
   "cell_type": "code",
   "execution_count": null,
   "metadata": {},
   "outputs": [],
   "source": [
    "df_proportions_ct1 = adata.obs.groupby(ID_KEY)[CT1_KEY].value_counts(normalize=True).unstack()\n",
    "df_proportions_ct1.columns = [f\"{pop} ratio \" for pop in df_proportions_ct1.columns]\n",
    "df_proportions_ct1"
   ]
  },
  {
   "cell_type": "markdown",
   "metadata": {},
   "source": [
    "## Niches enrichment"
   ]
  },
  {
   "cell_type": "code",
   "execution_count": null,
   "metadata": {},
   "outputs": [],
   "source": [
    "df_niche_infiltration0 = adata.obs.groupby([ID_KEY, NICHES_KEY])[CT0_KEY].value_counts(normalize=True).unstack(level=[1, 2])\n",
    "df_niche_infiltration0.columns = [f\"{pop} ratio in niche {niche}\" for niche, pop in df_niche_infiltration0.columns]\n",
    "df_niche_infiltration0"
   ]
  },
  {
   "cell_type": "code",
   "execution_count": null,
   "metadata": {},
   "outputs": [],
   "source": [
    "df_niche_infiltration1 = adata.obs.groupby([ID_KEY, NICHES_KEY])[CT1_KEY].value_counts(normalize=True).unstack(level=[1, 2])\n",
    "df_niche_infiltration1.columns = [f\"{pop} ratio in niche {niche}\" for niche, pop in df_niche_infiltration1.columns]\n",
    "df_niche_infiltration1"
   ]
  },
  {
   "cell_type": "markdown",
   "metadata": {},
   "source": [
    "## Niches proportions"
   ]
  },
  {
   "cell_type": "code",
   "execution_count": null,
   "metadata": {},
   "outputs": [],
   "source": [
    "df_niches_proportion = adata.obs.groupby(ID_KEY)[NICHES_KEY].value_counts(normalize=True).unstack()\n",
    "df_niches_proportion.columns = [f\"{niche} niche ratio\" for niche in df_niches_proportion.columns]\n",
    "df_niches_proportion"
   ]
  },
  {
   "cell_type": "markdown",
   "metadata": {},
   "source": [
    "## Squidpy statistics"
   ]
  },
  {
   "cell_type": "code",
   "execution_count": null,
   "metadata": {},
   "outputs": [],
   "source": [
    "def get_nhood_enrichment_df(ct_key):\n",
    "    series = []\n",
    "\n",
    "    pops = adata.obs[ct_key].cat.categories\n",
    "    pop_pairs = [(pops[i], pops[j]) for i in range(len(pops)) for j in range(i+1, len(pops))]\n",
    "\n",
    "    for image_id in adata.obs[ID_KEY].cat.categories:\n",
    "        adata_sub = adata[adata.obs[ID_KEY] == image_id].copy()\n",
    "        sq.gr.nhood_enrichment(adata_sub, cluster_key=ct_key)\n",
    "        \n",
    "        df_ = pd.DataFrame(adata_sub.uns[f'{ct_key}_nhood_enrichment'][\"zscore\"], index=adata_sub.obs[ct_key].cat.categories, columns=adata_sub.obs[ct_key].cat.categories) # np.cbrt() ?\n",
    "        s = pd.Series([df_.loc[p1, p2] for p1, p2 in pop_pairs], index=[f\"Ngh enrighment: {p1} <-> {p2}\" for p1, p2 in pop_pairs])    \n",
    "        series.append(s)\n",
    "        \n",
    "    return pd.concat(series, axis=1, keys=adata.obs[ID_KEY].cat.categories).T"
   ]
  },
  {
   "cell_type": "code",
   "execution_count": null,
   "metadata": {},
   "outputs": [],
   "source": [
    "def get_nhood_enrichment_df(ct_key):\n",
    "    series = []\n",
    "\n",
    "    pops = adata.obs[ct_key].cat.categories\n",
    "    pop_pairs = [(pops[i], pops[j]) for i in range(len(pops)) for j in range(i+1, len(pops))]\n",
    "\n",
    "    for image_id in adata.obs[ID_KEY].cat.categories:\n",
    "        adata_sub = adata[adata.obs[ID_KEY] == image_id].copy()\n",
    "        sq.gr.nhood_enrichment(adata_sub, cluster_key=ct_key)\n",
    "        \n",
    "        df_ = pd.DataFrame(adata_sub.uns[f'{ct_key}_nhood_enrichment'][\"zscore\"], index=adata_sub.obs[ct_key].cat.categories, columns=adata_sub.obs[ct_key].cat.categories) # np.cbrt() ?\n",
    "        df_ = df_.reindex(index=pops, columns=pops)  # Fix: Reindex the dataframe to include missing categories\n",
    "        s = pd.Series([df_.loc[p1, p2] for p1, p2 in pop_pairs], index=[f\"Ngh enrighment: {p1} <-> {p2}\" for p1, p2 in pop_pairs])    \n",
    "        series.append(s)\n",
    "        \n",
    "    return pd.concat(series, axis=1, keys=adata.obs[ID_KEY].cat.categories).T"
   ]
  },
  {
   "cell_type": "code",
   "execution_count": null,
   "metadata": {},
   "outputs": [],
   "source": [
    "df_nhood_enrichment0 = get_nhood_enrichment_df(CT0_KEY)\n",
    "df_nhood_enrichment1 = get_nhood_enrichment_df(CT1_KEY)"
   ]
  },
  {
   "cell_type": "code",
   "execution_count": null,
   "metadata": {},
   "outputs": [],
   "source": [
    "df_nhood_enrichment1"
   ]
  },
  {
   "cell_type": "markdown",
   "metadata": {},
   "source": [
    "Centrality scores"
   ]
  },
  {
   "cell_type": "code",
   "execution_count": null,
   "metadata": {},
   "outputs": [],
   "source": [
    "def get_centrality_scores_df(ct_key):\n",
    "    series = []\n",
    "\n",
    "    for image_id in adata.obs[ID_KEY].cat.categories:\n",
    "        adata_sub = adata[adata.obs[ID_KEY] == image_id].copy()\n",
    "        sq.gr.centrality_scores(adata_sub, ct_key)\n",
    "        s = adata_sub.uns[f\"{ct_key}_centrality_scores\"].unstack().copy()\n",
    "        s.index = [f'{pop} {n.replace(\"_\", \" \")}' for n, pop in s.index]\n",
    "        series.append(s)\n",
    "        \n",
    "    return pd.concat(series, axis=1, keys=adata.obs[ID_KEY].cat.categories).T"
   ]
  },
  {
   "cell_type": "code",
   "execution_count": null,
   "metadata": {},
   "outputs": [],
   "source": [
    "df_centrality_scores0 = get_centrality_scores_df(CT0_KEY)\n",
    "df_centrality_scores1 = get_centrality_scores_df(CT1_KEY)"
   ]
  },
  {
   "cell_type": "markdown",
   "metadata": {},
   "source": [
    "## Distances to niches"
   ]
  },
  {
   "cell_type": "code",
   "execution_count": null,
   "metadata": {},
   "outputs": [],
   "source": [
    "sns.displot(adata.obsp['spatial_distances'].data)"
   ]
  },
  {
   "cell_type": "code",
   "execution_count": null,
   "metadata": {},
   "outputs": [],
   "source": [
    "for niche_id in adata.obs[NICHES_KEY].unique():\n",
    "    niche_nodes = np.where(adata.obs[NICHES_KEY] == niche_id)[0]\n",
    "    \n",
    "    distances = np.full(adata.n_obs, np.nan)\n",
    "    current_distance = 0\n",
    "    distances[niche_nodes] = current_distance\n",
    "\n",
    "    visited = set(niche_nodes)\n",
    "    queue = niche_nodes\n",
    "\n",
    "    while len(queue):\n",
    "        distances[queue] = current_distance\n",
    "        \n",
    "        neighbors = set(adata.obsp['spatial_connectivities'][queue].indices)\n",
    "        queue = np.array(list(neighbors - visited))\n",
    "        visited |= neighbors\n",
    "        \n",
    "        current_distance += 1\n",
    "    \n",
    "    adata.obs[f\"distance_to_niche_{niche_id}\"] = distances"
   ]
  },
  {
   "cell_type": "code",
   "execution_count": null,
   "metadata": {},
   "outputs": [],
   "source": [
    "v = adata.obs['distance_to_niche_Tumour'].values\n",
    "sns.displot(v[v > 0])"
   ]
  },
  {
   "cell_type": "code",
   "execution_count": null,
   "metadata": {},
   "outputs": [],
   "source": [
    "series = []\n",
    "\n",
    "for niche_id in adata.obs[NICHES_KEY].unique():\n",
    "    key = f\"distance_to_niche_{niche_id}\"\n",
    "    obs = adata.obs\n",
    "    obs = obs[obs[key] > 0]\n",
    "    s = obs.groupby(ID_KEY)[key].mean()\n",
    "    series.append(s)\n",
    "    \n",
    "df_distances_niches = pd.concat(series, axis=1, keys=[f\"Mean distance to niche: {niche}\" for niche in adata.obs[NICHES_KEY].unique()])"
   ]
  },
  {
   "cell_type": "code",
   "execution_count": null,
   "metadata": {},
   "outputs": [],
   "source": [
    "df_distances_niches"
   ]
  },
  {
   "cell_type": "code",
   "execution_count": null,
   "metadata": {},
   "outputs": [],
   "source": [
    "def get_distance_niche(ct_key):\n",
    "    dfs_ = []\n",
    "\n",
    "    for niche_id in adata.obs[NICHES_KEY].unique():\n",
    "        key = f\"distance_to_niche_{niche_id}\"\n",
    "        obs = adata.obs\n",
    "        obs = obs[obs[key] > 0]\n",
    "        df_ = obs.groupby([ID_KEY, ct_key])[key].mean().unstack()\n",
    "        df_.columns = [f\"{c} mean distance to niche: {niche_id}\" for c in df_.columns]\n",
    "        dfs_.append(df_)\n",
    "        \n",
    "    return pd.concat(dfs_, axis=1)"
   ]
  },
  {
   "cell_type": "code",
   "execution_count": null,
   "metadata": {},
   "outputs": [],
   "source": [
    "df_distances_niches0 = get_distance_niche(CT0_KEY)\n",
    "df_distances_niches1 = get_distance_niche(CT1_KEY)"
   ]
  },
  {
   "cell_type": "markdown",
   "metadata": {},
   "source": [
    "# Global analysis"
   ]
  },
  {
   "cell_type": "code",
   "execution_count": null,
   "metadata": {},
   "outputs": [],
   "source": [
    "dataframes_dict = {\n",
    "    \"Proportions ct0\": df_proportions_ct0,\n",
    "    \"Proportions ct1\": df_proportions_ct1,\n",
    "    \"Niche Infiltration ct0\": df_niche_infiltration0,\n",
    "    \"Niche Infiltration ct1\": df_niche_infiltration1,\n",
    "    \"Niches proportion\": df_niches_proportion,\n",
    "    \"Nnhood enrichment ct0\": df_nhood_enrichment0,\n",
    "    \"Nnhood enrichment ct1\": df_nhood_enrichment1,\n",
    "    \"Centrality scores ct0\": df_centrality_scores0,\n",
    "    \"Centrality scores ct1\": df_centrality_scores1,\n",
    "    \"Distances niches\": df_distances_niches,\n",
    "    \"Distances niches ct0\": df_distances_niches0,\n",
    "    \"Distances niches ct1\": df_distances_niches1,\n",
    "}\n",
    "\n",
    "df = pd.concat(dataframes_dict.values(), axis=1, keys=dataframes_dict.keys())\n",
    "df = df.loc[:, ~df.columns.get_level_values(1).duplicated()].copy()\n",
    "dfs = {group: df.loc[ids] for group, ids in GROUPS.items()}\n",
    "\n",
    "df.index = pd.MultiIndex.from_arrays([df.index, df.index.map(TO_GROUP)], names=[df.index.name, GROUP_KEY])"
   ]
  },
  {
   "cell_type": "code",
   "execution_count": null,
   "metadata": {},
   "outputs": [],
   "source": [
    "filtered_res = df[df.index.get_level_values(GROUP_KEY).isin([PCR, NPCR])]\n",
    "filtered_res\n"
   ]
  },
  {
   "cell_type": "code",
   "execution_count": null,
   "metadata": {},
   "outputs": [],
   "source": [
    "palette = {\n",
    "    NPCR: \"#F77189\",\n",
    "    PCR: \"#36ADA4\",\n",
    "}\n",
    "\n",
    "def plot_biomarker(df, label, figsize=(3, 4), level=1, ax=None):\n",
    "    if isinstance(label, int):\n",
    "        label = df.columns[label][1]\n",
    "        \n",
    "    x = df.index.get_level_values(GROUP_KEY)\n",
    "    y = df.loc[:, df.columns.get_level_values(level) == label].squeeze()\n",
    "    \n",
    "    if ax is None:\n",
    "        plt.figure(figsize=figsize)\n",
    "    \n",
    "    sns.boxplot(x=x, y=y, width=.2, palette=palette, ax=ax)\n",
    "    \n",
    "    # Check if label is NPCR and set color of dots accordingly\n",
    "    if label == NPCR:\n",
    "        sns.stripplot(x=x, y=y, size=8, color=palette[PCR], linewidth=0, ax=ax)\n",
    "    else:\n",
    "        sns.stripplot(x=x, y=y, size=8, color=\".3\", linewidth=0, ax=ax)\n",
    "\n",
    "    sns.despine(offset=10, trim=True, ax=ax)\n",
    "    if ax:\n",
    "        ax.set_xlabel(\"\")\n",
    "        ax.set_ylabel(label)\n",
    "    else:\n",
    "        plt.xlabel(\"\")\n",
    "        plt.ylabel(label)\n",
    "    \n",
    "def plot_many(df, labels, figsize=(10, 10), level=1, ncols=4):\n",
    "    fig, axs = plt.subplots(nrows=ceil(len(labels) / ncols), ncols=ncols, figsize=figsize)\n",
    "\n",
    "    flat_axs = axs.reshape(-1)\n",
    "    for i, label in enumerate(labels):\n",
    "        plot_biomarker(df, label, level=level, ax=flat_axs[i])"
   ]
  },
  {
   "cell_type": "code",
   "execution_count": null,
   "metadata": {},
   "outputs": [],
   "source": [
    "plot_biomarker(filtered_res, 1)"
   ]
  },
  {
   "cell_type": "markdown",
   "metadata": {},
   "source": [
    "### Stats"
   ]
  },
  {
   "cell_type": "code",
   "execution_count": null,
   "metadata": {},
   "outputs": [],
   "source": [
    "from scipy import stats"
   ]
  },
  {
   "cell_type": "code",
   "execution_count": null,
   "metadata": {},
   "outputs": [],
   "source": [
    "group1, group2 = GROUPS.keys()"
   ]
  },
  {
   "cell_type": "code",
   "execution_count": null,
   "metadata": {},
   "outputs": [],
   "source": [
    "df.to_csv(\"stats_proportions_global_MGC_overall.csv\")"
   ]
  },
  {
   "cell_type": "code",
   "execution_count": null,
   "metadata": {},
   "outputs": [],
   "source": [
    "def run_ttest(i):\n",
    "    res = stats.ttest_ind(dfs[group1].values[:, i], dfs[group2].values[:, i], equal_var=False)\n",
    "    \n",
    "    return pd.Series([res.statistic, res.pvalue], index=[\"statistic\", \"pvalue\"])"
   ]
  },
  {
   "cell_type": "code",
   "execution_count": null,
   "metadata": {},
   "outputs": [],
   "source": [
    "run_ttest(0)"
   ]
  },
  {
   "cell_type": "code",
   "execution_count": null,
   "metadata": {},
   "outputs": [],
   "source": [
    "df_stat = pd.concat([run_ttest(i) for i in range(df.shape[1])], axis=1, keys=df.columns.get_level_values(1)).T.sort_values(\"pvalue\")"
   ]
  },
  {
   "cell_type": "code",
   "execution_count": null,
   "metadata": {},
   "outputs": [],
   "source": [
    "plot_many(filtered_res, best_markers, figsize=(20, 100))\n"
   ]
  }
 ],
 "metadata": {
  "kernelspec": {
   "display_name": "bio",
   "language": "python",
   "name": "python3"
  },
  "language_info": {
   "codemirror_mode": {
    "name": "ipython",
    "version": 3
   },
   "file_extension": ".py",
   "mimetype": "text/x-python",
   "name": "python",
   "nbconvert_exporter": "python",
   "pygments_lexer": "ipython3",
   "version": "3.10.12"
  },
  "orig_nbformat": 4
 },
 "nbformat": 4,
 "nbformat_minor": 2
}
